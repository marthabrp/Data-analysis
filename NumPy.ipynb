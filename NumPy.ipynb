{
  "nbformat": 4,
  "nbformat_minor": 0,
  "metadata": {
    "colab": {
      "name": "NumPy.ipynb",
      "provenance": [],
      "collapsed_sections": []
    },
    "kernelspec": {
      "name": "python3",
      "display_name": "Python 3"
    }
  },
  "cells": [
    {
      "cell_type": "markdown",
      "metadata": {
        "id": "EzAXfeo059xl"
      },
      "source": [
        "#Análise de Dados – NumPy\n",
        "***\n"
      ]
    },
    {
      "cell_type": "markdown",
      "metadata": {
        "id": "rdYn3h3r6WZl"
      },
      "source": [
        "***\n",
        "**1.** Crie um array nulo de tamanho 10, mas com o 5° elemento valendo 1. "
      ]
    },
    {
      "cell_type": "code",
      "metadata": {
        "id": "FpznKJpN6ccL",
        "colab": {
          "base_uri": "https://localhost:8080/",
          "height": 51
        },
        "outputId": "169c0b63-9fbe-4d43-ac63-16ee8fbe0de9"
      },
      "source": [
        "import numpy as np\n",
        "array = np.zeros(10)\n",
        "array[4] = 1\n",
        "print('Array:\\n', array)"
      ],
      "execution_count": null,
      "outputs": [
        {
          "output_type": "stream",
          "text": [
            "Array:\n",
            " [0. 0. 0. 0. 1. 0. 0. 0. 0. 0.]\n"
          ],
          "name": "stdout"
        }
      ]
    },
    {
      "cell_type": "markdown",
      "metadata": {
        "id": "_j71YSXu6c1j"
      },
      "source": [
        "***\n",
        "**2.** Crie um array com valores inteiros variando entre 10 e 49 e inverta o array\n",
        "(i.e., o 1o. elemento do array passa a ser o último). "
      ]
    },
    {
      "cell_type": "code",
      "metadata": {
        "id": "499Y8LIX6fJV",
        "colab": {
          "base_uri": "https://localhost:8080/",
          "height": 170
        },
        "outputId": "403c79a3-d7be-46d2-8505-4d2ad83b1c90"
      },
      "source": [
        "import numpy as np\n",
        "array = np.arange(10, 50)\n",
        "reversed_arr = np.flip(array)\n",
        "print('Array:\\n\\n', array)\n",
        "print('\\nReversed Array:\\n\\n ', reversed_arr)"
      ],
      "execution_count": null,
      "outputs": [
        {
          "output_type": "stream",
          "text": [
            "Array:\n",
            "\n",
            " [10 11 12 13 14 15 16 17 18 19 20 21 22 23 24 25 26 27 28 29 30 31 32 33\n",
            " 34 35 36 37 38 39 40 41 42 43 44 45 46 47 48 49]\n",
            "\n",
            "Reversed Array:\n",
            "\n",
            "  [49 48 47 46 45 44 43 42 41 40 39 38 37 36 35 34 33 32 31 30 29 28 27 26\n",
            " 25 24 23 22 21 20 19 18 17 16 15 14 13 12 11 10]\n"
          ],
          "name": "stdout"
        }
      ]
    },
    {
      "cell_type": "markdown",
      "metadata": {
        "id": "64ymsXX46fgj"
      },
      "source": [
        "\n",
        "***\n",
        "**3.** Ache os índices não nulos do array [1, 2, 0, 0, 4, 0]. "
      ]
    },
    {
      "cell_type": "code",
      "metadata": {
        "id": "CZnSMjwN6kar",
        "colab": {
          "base_uri": "https://localhost:8080/",
          "height": 51
        },
        "outputId": "15b8b646-0eb5-472e-c88a-15afe8839711"
      },
      "source": [
        "import numpy as np\n",
        "\n",
        "a = np.array([1, 2, 0, 0, 4, 0])\n",
        "b = np.where(a>0)\n",
        "indices = np.concatenate(b)\n",
        "print(f'A = {a}')\n",
        "print(f'Os índices dos elementos não nulos do vetor A são: {indices}')"
      ],
      "execution_count": null,
      "outputs": [
        {
          "output_type": "stream",
          "text": [
            "A = [1 2 0 0 4 0]\n",
            "Os índices dos elementos não nulos do vetor A são: [0 1 4]\n"
          ],
          "name": "stdout"
        }
      ]
    },
    {
      "cell_type": "markdown",
      "metadata": {
        "id": "JncRpbcSws31"
      },
      "source": [
        "\n",
        "***\n",
        "**4.** Considere dois arrays de mesma dimensão. Confira se eles são iguais (usando só um\n",
        "comando). "
      ]
    },
    {
      "cell_type": "code",
      "metadata": {
        "id": "AP0SL6BDCxji",
        "colab": {
          "base_uri": "https://localhost:8080/",
          "height": 34
        },
        "outputId": "2a80e63c-43d4-47a4-e479-b8804608eb1c"
      },
      "source": [
        "import numpy as np\n",
        "\n",
        "a = np.array([1, 2, 3, 4])\n",
        "b = np.array([4, 2, 2, 4])\n",
        "\n",
        "comparacao = np.array_equal(a,b)\n",
        "\n",
        "print(comparacao)"
      ],
      "execution_count": null,
      "outputs": [
        {
          "output_type": "stream",
          "text": [
            "True\n"
          ],
          "name": "stdout"
        }
      ]
    },
    {
      "cell_type": "markdown",
      "metadata": {
        "id": "heJ8aWH065DU"
      },
      "source": [
        "***\n",
        "**5.** Execute o código em Python a seguir. Explique o resultado obtido.\n"
      ]
    },
    {
      "cell_type": "code",
      "metadata": {
        "id": "a4EYi58s64vd",
        "colab": {
          "base_uri": "https://localhost:8080/",
          "height": 136
        },
        "outputId": "d748b120-124d-4f96-b90e-7c45f4310b46"
      },
      "source": [
        "import numpy as np\n",
        "a = np.arange(3)\n",
        "b = np.arange(3)[:, np.newaxis]\n",
        "print(a)\n",
        "print(b)\n",
        "a + b"
      ],
      "execution_count": null,
      "outputs": [
        {
          "output_type": "stream",
          "text": [
            "[0 1 2]\n",
            "[[0]\n",
            " [1]\n",
            " [2]]\n"
          ],
          "name": "stdout"
        },
        {
          "output_type": "execute_result",
          "data": {
            "text/plain": [
              "array([[0, 1, 2],\n",
              "       [1, 2, 3],\n",
              "       [2, 3, 4]])"
            ]
          },
          "metadata": {
            "tags": []
          },
          "execution_count": 15
        }
      ]
    },
    {
      "cell_type": "markdown",
      "metadata": {
        "id": "wGrMV9LI9CMd"
      },
      "source": [
        "Para efetuar a soma das duas matrizes, o NumPy aumenta a dimensão de uma das matrizes (no caso a matriz 'b').\n",
        "\n",
        "Posteriormente, o código apresenta o resultado dessa soma, na qual fica evidente que, para cada elemento presente em 'a', efetua-se a soma com b[0], b[1] e b[2], resultando nos três subconjuntos.\n",
        "\n",
        "**Desse modo, temos:**\n",
        "\n",
        "* [0 1 2] + [0] = [0 1 2]\n",
        "* [0 1 2] + [1] = [1 2 3]\n",
        "* [0 1 2] + [2] = [2 3 4]\n",
        "\n",
        "###########\n",
        "\n",
        "Ele soma o vetor A três vezes, uma vez em cada linha, então ele somou:\n",
        "\n",
        "[0 1 2] + [0], [0 1 2] + [1] e [0 1 2] + [2]\n",
        "\n",
        "Isso quer dizer que, se pegarmos a primeira soma, foram feitas as operações:\n",
        "\n",
        "[[0]+[0], [0]+[1], [0]+[2]]\n",
        "\n",
        "Resultando na saída:\n",
        "\n",
        "[[0 1 2]\n",
        "\n",
        "[1 2 3]\n",
        "\n",
        "[2 3 4]]"
      ]
    }
  ]
}